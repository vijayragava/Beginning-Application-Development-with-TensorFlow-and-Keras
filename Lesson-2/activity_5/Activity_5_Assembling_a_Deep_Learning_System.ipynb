{
 "cells": [
  {
   "cell_type": "markdown",
   "metadata": {},
   "source": [
    "#### Magic Commands\n",
    "Magic commands (those that start with `%`) are commands that modify a configuration of Jupyter Notebooks. A number of magic commands are available by default (see list [here](http://ipython.readthedocs.io/en/stable/interactive/magics.html))--and many more can be added with extensions. The magic command added in this section allows `matplotlib` to display our plots directly on the browser instead of having to save them on a local file."
   ]
  },
  {
   "cell_type": "code",
   "execution_count": 2,
   "metadata": {},
   "outputs": [],
   "source": [
    "%matplotlib inline"
   ]
  },
  {
   "cell_type": "markdown",
   "metadata": {},
   "source": [
    "# Activity 5: Assembling a Deep Learning System\n",
    "In this activity, we will train the first version of our LSTM model using Bitcoin daily closing prices. These prices will be organized using the weeks of both 2016 and 2017. We do that because we are interested in predicting the prices of a week's worth of trading.\n",
    "\n",
    "Let's go ahead and import our data."
   ]
  },
  {
   "cell_type": "code",
   "execution_count": 3,
   "metadata": {},
   "outputs": [],
   "source": [
    "import numpy as np\n",
    "import pandas as pd\n",
    "import matplotlib.pyplot as plt"
   ]
  },
  {
   "cell_type": "code",
   "execution_count": 4,
   "metadata": {},
   "outputs": [
    {
     "name": "stderr",
     "output_type": "stream",
     "text": [
      "Using TensorFlow backend.\n"
     ]
    }
   ],
   "source": [
    "from keras.models import load_model"
   ]
  },
  {
   "cell_type": "code",
   "execution_count": 6,
   "metadata": {},
   "outputs": [],
   "source": [
    "plt.style.use('seaborn-white')"
   ]
  },
  {
   "cell_type": "markdown",
   "metadata": {},
   "source": [
    "### Shaping Data\n",
    "Neural networks typically work with vectors and tensors, both mathematical objects that organize data in a number of dimensions. "
   ]
  },
  {
   "cell_type": "code",
   "execution_count": 7,
   "metadata": {},
   "outputs": [],
   "source": [
    "train = pd.read_csv('data/train_dataset.csv')"
   ]
  },
  {
   "cell_type": "code",
   "execution_count": 9,
   "metadata": {},
   "outputs": [
    {
     "data": {
      "text/html": [
       "<div>\n",
       "<style scoped>\n",
       "    .dataframe tbody tr th:only-of-type {\n",
       "        vertical-align: middle;\n",
       "    }\n",
       "\n",
       "    .dataframe tbody tr th {\n",
       "        vertical-align: top;\n",
       "    }\n",
       "\n",
       "    .dataframe thead th {\n",
       "        text-align: right;\n",
       "    }\n",
       "</style>\n",
       "<table border=\"1\" class=\"dataframe\">\n",
       "  <thead>\n",
       "    <tr style=\"text-align: right;\">\n",
       "      <th></th>\n",
       "      <th>date</th>\n",
       "      <th>iso_week</th>\n",
       "      <th>close</th>\n",
       "      <th>volume</th>\n",
       "      <th>close_point_relative_normalization</th>\n",
       "      <th>volume_point_relative_normalization</th>\n",
       "    </tr>\n",
       "  </thead>\n",
       "  <tbody>\n",
       "    <tr>\n",
       "      <th>0</th>\n",
       "      <td>2016-01-01</td>\n",
       "      <td>2016-00</td>\n",
       "      <td>434.33</td>\n",
       "      <td>36278900.0</td>\n",
       "      <td>0.000000</td>\n",
       "      <td>0.000000</td>\n",
       "    </tr>\n",
       "    <tr>\n",
       "      <th>1</th>\n",
       "      <td>2016-01-02</td>\n",
       "      <td>2016-00</td>\n",
       "      <td>433.44</td>\n",
       "      <td>30096600.0</td>\n",
       "      <td>-0.002049</td>\n",
       "      <td>-0.170410</td>\n",
       "    </tr>\n",
       "    <tr>\n",
       "      <th>2</th>\n",
       "      <td>2016-01-03</td>\n",
       "      <td>2016-01</td>\n",
       "      <td>430.01</td>\n",
       "      <td>39633800.0</td>\n",
       "      <td>0.000000</td>\n",
       "      <td>0.000000</td>\n",
       "    </tr>\n",
       "    <tr>\n",
       "      <th>3</th>\n",
       "      <td>2016-01-04</td>\n",
       "      <td>2016-01</td>\n",
       "      <td>433.09</td>\n",
       "      <td>38477500.0</td>\n",
       "      <td>0.007163</td>\n",
       "      <td>-0.029175</td>\n",
       "    </tr>\n",
       "    <tr>\n",
       "      <th>4</th>\n",
       "      <td>2016-01-05</td>\n",
       "      <td>2016-01</td>\n",
       "      <td>431.96</td>\n",
       "      <td>34522600.0</td>\n",
       "      <td>0.004535</td>\n",
       "      <td>-0.128961</td>\n",
       "    </tr>\n",
       "  </tbody>\n",
       "</table>\n",
       "</div>"
      ],
      "text/plain": [
       "         date iso_week   close      volume  \\\n",
       "0  2016-01-01  2016-00  434.33  36278900.0   \n",
       "1  2016-01-02  2016-00  433.44  30096600.0   \n",
       "2  2016-01-03  2016-01  430.01  39633800.0   \n",
       "3  2016-01-04  2016-01  433.09  38477500.0   \n",
       "4  2016-01-05  2016-01  431.96  34522600.0   \n",
       "\n",
       "   close_point_relative_normalization  volume_point_relative_normalization  \n",
       "0                            0.000000                             0.000000  \n",
       "1                           -0.002049                            -0.170410  \n",
       "2                            0.000000                             0.000000  \n",
       "3                            0.007163                            -0.029175  \n",
       "4                            0.004535                            -0.128961  "
      ]
     },
     "execution_count": 9,
     "metadata": {},
     "output_type": "execute_result"
    }
   ],
   "source": [
    "train.head()"
   ]
  },
  {
   "cell_type": "markdown",
   "metadata": {},
   "source": [
    "LSTM networks require vectors with three dimensions. These dimensions are:\n",
    "    \n",
    "* **Period length**: The period length, i.e. how many observations is there on a period.\n",
    "* **Number of periods**: How many periods are available in the dataset.\n",
    "* **Number of features**: Number of features available in the dataset.\n",
    "\n",
    "We will create weekly groups then rearrange the resulting array to match those dimensions."
   ]
  },
  {
   "cell_type": "code",
   "execution_count": 10,
   "metadata": {},
   "outputs": [],
   "source": [
    "def create_groups(data, group_size=7):\n",
    "    \"\"\"\n",
    "    Creates distinct groups from a given continuous series.\n",
    "    \n",
    "    Parameters\n",
    "    ----------\n",
    "    data: np.array\n",
    "        Series of continious observations.\n",
    "\n",
    "    group_size: int, default 7\n",
    "        Determines how large the groups are. That is,\n",
    "        how many observations each group contains.\n",
    "    \n",
    "    Returns\n",
    "    -------\n",
    "    A Numpy array object. \n",
    "    \"\"\"\n",
    "    samples = list()\n",
    "    for i in range(0, len(data), group_size):\n",
    "        sample = list(data[i:i + group_size])\n",
    "        if len(sample) == group_size:\n",
    "            samples.append(np.array(sample).reshape(1, group_size).tolist())\n",
    "    \n",
    "    return np.array(samples)"
   ]
  },
  {
   "cell_type": "code",
   "execution_count": 13,
   "metadata": {},
   "outputs": [],
   "source": [
    "data = create_groups(train['close_point_relative_normalization'].values)"
   ]
  },
  {
   "cell_type": "code",
   "execution_count": 14,
   "metadata": {},
   "outputs": [],
   "source": [
    "X_train = data[:-1,:].reshape(1, 76, 7)\n",
    "Y_validation = data[-1].reshape(1, 7)"
   ]
  },
  {
   "cell_type": "markdown",
   "metadata": {},
   "source": [
    "### Load Our Model\n",
    "Let's start by loading our previously trained model. "
   ]
  },
  {
   "cell_type": "code",
   "execution_count": 15,
   "metadata": {},
   "outputs": [],
   "source": [
    "model = load_model('bitcoin_lstm_v0.h5')"
   ]
  },
  {
   "cell_type": "markdown",
   "metadata": {},
   "source": [
    "### Make Predictions\n"
   ]
  },
  {
   "cell_type": "code",
   "execution_count": 16,
   "metadata": {
    "scrolled": false
   },
   "outputs": [
    {
     "name": "stdout",
     "output_type": "stream",
     "text": [
      "Epoch 1/100\n",
      "1/1 [==============================] - 1s 649ms/step - loss: 0.0086\n",
      "Epoch 2/100\n",
      "1/1 [==============================] - 0s 41ms/step - loss: 0.0075\n",
      "Epoch 3/100\n",
      "1/1 [==============================] - 0s 43ms/step - loss: 0.0068\n",
      "Epoch 4/100\n",
      "1/1 [==============================] - 0s 41ms/step - loss: 0.0063\n",
      "Epoch 5/100\n",
      "1/1 [==============================] - 0s 40ms/step - loss: 0.0058\n",
      "Epoch 6/100\n",
      "1/1 [==============================] - 0s 39ms/step - loss: 0.0054\n",
      "Epoch 7/100\n",
      "1/1 [==============================] - 0s 39ms/step - loss: 0.0050\n",
      "Epoch 8/100\n",
      "1/1 [==============================] - 0s 43ms/step - loss: 0.0047\n",
      "Epoch 9/100\n",
      "1/1 [==============================] - 0s 43ms/step - loss: 0.0044\n",
      "Epoch 10/100\n",
      "1/1 [==============================] - 0s 42ms/step - loss: 0.0041\n",
      "Epoch 11/100\n",
      "1/1 [==============================] - 0s 39ms/step - loss: 0.0039\n",
      "Epoch 12/100\n",
      "1/1 [==============================] - 0s 39ms/step - loss: 0.0036\n",
      "Epoch 13/100\n",
      "1/1 [==============================] - 0s 38ms/step - loss: 0.0034\n",
      "Epoch 14/100\n",
      "1/1 [==============================] - 0s 34ms/step - loss: 0.0032\n",
      "Epoch 15/100\n",
      "1/1 [==============================] - 0s 35ms/step - loss: 0.0030\n",
      "Epoch 16/100\n",
      "1/1 [==============================] - 0s 34ms/step - loss: 0.0028\n",
      "Epoch 17/100\n",
      "1/1 [==============================] - 0s 34ms/step - loss: 0.0026\n",
      "Epoch 18/100\n",
      "1/1 [==============================] - 0s 32ms/step - loss: 0.0024\n",
      "Epoch 19/100\n",
      "1/1 [==============================] - 0s 35ms/step - loss: 0.0022\n",
      "Epoch 20/100\n",
      "1/1 [==============================] - 0s 35ms/step - loss: 0.0021\n",
      "Epoch 21/100\n",
      "1/1 [==============================] - 0s 34ms/step - loss: 0.0019\n",
      "Epoch 22/100\n",
      "1/1 [==============================] - 0s 35ms/step - loss: 0.0018\n",
      "Epoch 23/100\n",
      "1/1 [==============================] - 0s 34ms/step - loss: 0.0016\n",
      "Epoch 24/100\n",
      "1/1 [==============================] - 0s 34ms/step - loss: 0.0015\n",
      "Epoch 25/100\n",
      "1/1 [==============================] - 0s 37ms/step - loss: 0.0014\n",
      "Epoch 26/100\n",
      "1/1 [==============================] - 0s 35ms/step - loss: 0.0013\n",
      "Epoch 27/100\n",
      "1/1 [==============================] - 0s 33ms/step - loss: 0.0012\n",
      "Epoch 28/100\n",
      "1/1 [==============================] - 0s 33ms/step - loss: 0.0011\n",
      "Epoch 29/100\n",
      "1/1 [==============================] - 0s 33ms/step - loss: 9.8262e-04\n",
      "Epoch 30/100\n",
      "1/1 [==============================] - 0s 34ms/step - loss: 9.0040e-04\n",
      "Epoch 31/100\n",
      "1/1 [==============================] - 0s 35ms/step - loss: 8.2450e-04\n",
      "Epoch 32/100\n",
      "1/1 [==============================] - 0s 34ms/step - loss: 7.5451e-04\n",
      "Epoch 33/100\n",
      "1/1 [==============================] - 0s 35ms/step - loss: 6.9002e-04\n",
      "Epoch 34/100\n",
      "1/1 [==============================] - 0s 34ms/step - loss: 6.3059e-04\n",
      "Epoch 35/100\n",
      "1/1 [==============================] - 0s 35ms/step - loss: 5.7581e-04\n",
      "Epoch 36/100\n",
      "1/1 [==============================] - 0s 34ms/step - loss: 5.2528e-04\n",
      "Epoch 37/100\n",
      "1/1 [==============================] - 0s 32ms/step - loss: 4.7859e-04\n",
      "Epoch 38/100\n",
      "1/1 [==============================] - 0s 32ms/step - loss: 4.3538e-04\n",
      "Epoch 39/100\n",
      "1/1 [==============================] - 0s 33ms/step - loss: 3.9533e-04\n",
      "Epoch 40/100\n",
      "1/1 [==============================] - 0s 32ms/step - loss: 3.5815e-04\n",
      "Epoch 41/100\n",
      "1/1 [==============================] - 0s 32ms/step - loss: 3.2360e-04\n",
      "Epoch 42/100\n",
      "1/1 [==============================] - 0s 32ms/step - loss: 2.9147e-04\n",
      "Epoch 43/100\n",
      "1/1 [==============================] - 0s 32ms/step - loss: 2.6161e-04\n",
      "Epoch 44/100\n",
      "1/1 [==============================] - 0s 33ms/step - loss: 2.3388e-04\n",
      "Epoch 45/100\n",
      "1/1 [==============================] - 0s 33ms/step - loss: 2.0816e-04\n",
      "Epoch 46/100\n",
      "1/1 [==============================] - 0s 36ms/step - loss: 1.8437e-04\n",
      "Epoch 47/100\n",
      "1/1 [==============================] - 0s 33ms/step - loss: 1.6242e-04\n",
      "Epoch 48/100\n",
      "1/1 [==============================] - 0s 32ms/step - loss: 1.4224e-04\n",
      "Epoch 49/100\n",
      "1/1 [==============================] - 0s 30ms/step - loss: 1.2378e-04\n",
      "Epoch 50/100\n",
      "1/1 [==============================] - 0s 34ms/step - loss: 1.0696e-04\n",
      "Epoch 51/100\n",
      "1/1 [==============================] - 0s 31ms/step - loss: 9.1738e-05\n",
      "Epoch 52/100\n",
      "1/1 [==============================] - 0s 33ms/step - loss: 7.8037e-05\n",
      "Epoch 53/100\n",
      "1/1 [==============================] - 0s 33ms/step - loss: 6.5795e-05\n",
      "Epoch 54/100\n",
      "1/1 [==============================] - 0s 32ms/step - loss: 5.4942e-05\n",
      "Epoch 55/100\n",
      "1/1 [==============================] - 0s 31ms/step - loss: 4.5403e-05\n",
      "Epoch 56/100\n",
      "1/1 [==============================] - 0s 32ms/step - loss: 3.7099e-05\n",
      "Epoch 57/100\n",
      "1/1 [==============================] - 0s 34ms/step - loss: 2.9944e-05\n",
      "Epoch 58/100\n",
      "1/1 [==============================] - 0s 34ms/step - loss: 2.3851e-05\n",
      "Epoch 59/100\n",
      "1/1 [==============================] - 0s 32ms/step - loss: 1.8726e-05\n",
      "Epoch 60/100\n",
      "1/1 [==============================] - 0s 30ms/step - loss: 1.4478e-05\n",
      "Epoch 61/100\n",
      "1/1 [==============================] - 0s 32ms/step - loss: 1.1035e-05\n",
      "Epoch 62/100\n",
      "1/1 [==============================] - 0s 31ms/step - loss: 8.5827e-06\n",
      "Epoch 63/100\n",
      "1/1 [==============================] - 0s 31ms/step - loss: 7.5133e-06\n",
      "Epoch 64/100\n",
      "1/1 [==============================] - 0s 31ms/step - loss: 1.0287e-05\n",
      "Epoch 65/100\n",
      "1/1 [==============================] - 0s 34ms/step - loss: 2.4538e-05\n",
      "Epoch 66/100\n",
      "1/1 [==============================] - 0s 32ms/step - loss: 3.1953e-05\n",
      "Epoch 67/100\n",
      "1/1 [==============================] - 0s 32ms/step - loss: 2.1197e-05\n",
      "Epoch 68/100\n",
      "1/1 [==============================] - 0s 31ms/step - loss: 1.0450e-05\n",
      "Epoch 69/100\n",
      "1/1 [==============================] - 0s 32ms/step - loss: 5.3895e-06\n",
      "Epoch 70/100\n",
      "1/1 [==============================] - 0s 33ms/step - loss: 3.0880e-06\n",
      "Epoch 71/100\n",
      "1/1 [==============================] - 0s 33ms/step - loss: 2.0617e-06\n",
      "Epoch 72/100\n",
      "1/1 [==============================] - 0s 33ms/step - loss: 1.5815e-06\n",
      "Epoch 73/100\n",
      "1/1 [==============================] - 0s 33ms/step - loss: 1.4359e-06\n",
      "Epoch 74/100\n",
      "1/1 [==============================] - 0s 32ms/step - loss: 1.5443e-06\n",
      "Epoch 75/100\n",
      "1/1 [==============================] - 0s 32ms/step - loss: 1.9914e-06\n",
      "Epoch 76/100\n",
      "1/1 [==============================] - 0s 32ms/step - loss: 2.9645e-06\n",
      "Epoch 77/100\n",
      "1/1 [==============================] - 0s 33ms/step - loss: 4.9251e-06\n",
      "Epoch 78/100\n",
      "1/1 [==============================] - 0s 32ms/step - loss: 8.3037e-06\n",
      "Epoch 79/100\n",
      "1/1 [==============================] - 0s 32ms/step - loss: 1.2959e-05\n",
      "Epoch 80/100\n",
      "1/1 [==============================] - 0s 32ms/step - loss: 1.6085e-05\n",
      "Epoch 81/100\n",
      "1/1 [==============================] - 0s 33ms/step - loss: 1.5701e-05\n",
      "Epoch 82/100\n",
      "1/1 [==============================] - 0s 31ms/step - loss: 1.2095e-05\n",
      "Epoch 83/100\n",
      "1/1 [==============================] - 0s 31ms/step - loss: 8.7726e-06\n",
      "Epoch 84/100\n",
      "1/1 [==============================] - 0s 31ms/step - loss: 6.1793e-06\n",
      "Epoch 85/100\n",
      "1/1 [==============================] - 0s 32ms/step - loss: 4.7719e-06\n",
      "Epoch 86/100\n",
      "1/1 [==============================] - 0s 33ms/step - loss: 3.9671e-06\n",
      "Epoch 87/100\n",
      "1/1 [==============================] - 0s 32ms/step - loss: 3.7488e-06\n",
      "Epoch 88/100\n",
      "1/1 [==============================] - 0s 31ms/step - loss: 3.8766e-06\n",
      "Epoch 89/100\n",
      "1/1 [==============================] - 0s 31ms/step - loss: 4.4791e-06\n",
      "Epoch 90/100\n",
      "1/1 [==============================] - 0s 31ms/step - loss: 5.4727e-06\n",
      "Epoch 91/100\n",
      "1/1 [==============================] - 0s 31ms/step - loss: 7.0514e-06\n",
      "Epoch 92/100\n",
      "1/1 [==============================] - 0s 30ms/step - loss: 8.8361e-06\n",
      "Epoch 93/100\n",
      "1/1 [==============================] - 0s 31ms/step - loss: 1.0635e-05\n",
      "Epoch 94/100\n",
      "1/1 [==============================] - 0s 31ms/step - loss: 1.1320e-05\n",
      "Epoch 95/100\n",
      "1/1 [==============================] - 0s 34ms/step - loss: 1.1083e-05\n",
      "Epoch 96/100\n",
      "1/1 [==============================] - 0s 34ms/step - loss: 9.6820e-06\n",
      "Epoch 97/100\n",
      "1/1 [==============================] - 0s 32ms/step - loss: 8.3090e-06\n",
      "Epoch 98/100\n",
      "1/1 [==============================] - 0s 30ms/step - loss: 6.9346e-06\n",
      "Epoch 99/100\n",
      "1/1 [==============================] - 0s 32ms/step - loss: 6.1079e-06\n"
     ]
    },
    {
     "name": "stdout",
     "output_type": "stream",
     "text": [
      "Epoch 100/100\n",
      "1/1 [==============================] - 0s 32ms/step - loss: 5.5442e-06\n",
      "Wall time: 5.05 s\n"
     ]
    }
   ],
   "source": [
    "%%time\n",
    "history = model.fit(\n",
    "    x=X_train, y=Y_validation,\n",
    "    batch_size=32, epochs=100)"
   ]
  },
  {
   "cell_type": "code",
   "execution_count": 17,
   "metadata": {},
   "outputs": [],
   "source": [
    "model.save('bitcoin_lstm_v0_trained.h5')"
   ]
  },
  {
   "cell_type": "code",
   "execution_count": 18,
   "metadata": {},
   "outputs": [
    {
     "data": {
      "text/plain": [
       "<matplotlib.axes._subplots.AxesSubplot at 0x10c5cf60>"
      ]
     },
     "execution_count": 18,
     "metadata": {},
     "output_type": "execute_result"
    },
    {
     "data": {
      "image/png": "[encoded data removed]",
      "text/plain": [
       "<Figure size 1008x288 with 1 Axes>"
      ]
     },
     "metadata": {},
     "output_type": "display_data"
    }
   ],
   "source": [
    "pd.Series(history.history['loss']).plot(linewidth=2, figsize=(14, 4), color='#d35400')"
   ]
  },
  {
   "cell_type": "code",
   "execution_count": 20,
   "metadata": {},
   "outputs": [],
   "source": [
    "def denormalize(series, last_value):\n",
    "    result = last_value * (series + 1)\n",
    "    return result"
   ]
  },
  {
   "cell_type": "code",
   "execution_count": 21,
   "metadata": {},
   "outputs": [],
   "source": [
    "predictions = model.predict(x=X_train)[0]"
   ]
  },
  {
   "cell_type": "code",
   "execution_count": 22,
   "metadata": {},
   "outputs": [],
   "source": [
    "last_weeks_value = train[train['date'] == train['date'].max()]['close'].values[0]\n",
    "denormalized_prediction = denormalize(predictions, last_weeks_value)"
   ]
  },
  {
   "cell_type": "code",
   "execution_count": 23,
   "metadata": {},
   "outputs": [
    {
     "data": {
      "text/plain": [
       "<matplotlib.axes._subplots.AxesSubplot at 0x10f7a908>"
      ]
     },
     "execution_count": 23,
     "metadata": {},
     "output_type": "execute_result"
    },
    {
     "data": {
      "image/png": "[encoded data removed]",
      "text/plain": [
       "<Figure size 432x288 with 1 Axes>"
      ]
     },
     "metadata": {},
     "output_type": "display_data"
    }
   ],
   "source": [
    "pd.DataFrame(denormalized_prediction).plot(linewidth=2, figsize=(6, 4), color='#d35400', grid=True)"
   ]
  },
  {
   "cell_type": "code",
   "execution_count": 25,
   "metadata": {},
   "outputs": [
    {
     "data": {
      "text/plain": [
       "<matplotlib.lines.Line2D at 0x11257b70>"
      ]
     },
     "execution_count": 25,
     "metadata": {},
     "output_type": "execute_result"
    },
    {
     "data": {
      "image/png": "[encoded data removed]",
      "text/plain": [
       "<Figure size 1008x288 with 1 Axes>"
      ]
     },
     "metadata": {},
     "output_type": "display_data"
    }
   ],
   "source": [
    "full_series = list(train['close'].values) + list(denormalized_prediction)\n",
    "pd.DataFrame(full_series[-7*8:]).plot(linewidth=2, figsize=(14, 4), color='#d35400', grid=True)\n",
    "plt.axvline(len(full_series[-7*8:]) - 7)"
   ]
  },
  {
   "cell_type": "markdown",
   "metadata": {},
   "source": [
    "### Summary\n",
    "In this activity, we have assembled a complete deep learning system: from data to prediction. The model created in this activity need a number of improvements before it can be considered useful. However, it serves as a great starting point from which we will continuously improve."
   ]
  }
 ],
 "metadata": {
  "kernelspec": {
   "display_name": "Python 3",
   "language": "python",
   "name": "python3"
  },
  "language_info": {
   "codemirror_mode": {
    "name": "ipython",
    "version": 3
   },
   "file_extension": ".py",
   "mimetype": "text/x-python",
   "name": "python",
   "nbconvert_exporter": "python",
   "pygments_lexer": "ipython3",
   "version": "3.6.8"
  }
 },
 "nbformat": 4,
 "nbformat_minor": 2
}
